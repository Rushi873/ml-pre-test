{
 "cells": [
  {
   "cell_type": "markdown",
   "id": "3928e363",
   "metadata": {},
   "source": [
    "# Pre Requiste Test for Machine Learning\n",
    "\n",
    "#### Name : Rushi Mehul Glasswala\n",
    "#### Roll No. : 21110068\n"
   ]
  },
  {
   "cell_type": "markdown",
   "id": "5ecb8e3b",
   "metadata": {},
   "source": [
    "### Answer 1\n",
    "\n",
    "For a matrix (a,b), a is number of rows and b is number of column.\n",
    "\n",
    "Matrix(1,3) = \\begin{bmatrix}\n",
    "2 & 5 & 3\n",
    "\\end{bmatrix}\n",
    "\n",
    "Matrix(3,4) =        \n",
    " \\begin{bmatrix}\n",
    "1 & 2 & 3 & 8\\\\\n",
    "5 & 4 & 1 & 5\\\\\n",
    "4 & 6 & 3 & 9\n",
    "\\end{bmatrix}\n",
    "\n",
    "Matrix(1,4) = Matrix(1,3) * Matrix(3,4)\n",
    "\n",
    " = \\begin{bmatrix}\n",
    "39 & 42 & 20 & 68\n",
    "\\end{bmatrix}\n",
    "\n",
    "Taking an example, for multipling matrix (1,3) and (3,4) we get matrix (1,4). We need to apply 3 multiplication operation and 2 ie.(3-1) addition operation for each element, also there will be ${ 1×4 = 4 }$ elements.\n",
    "\n",
    "So total multiplication operation will be ${1×4×3 = 12}$ and \n",
    "total addition operation will be ${1×4×(3-1) = 8 }$\n",
    "\n",
    "\n",
    "###### Now for multiplication of matrix (n,k) with (k,m), \n",
    "\n",
    "Total multiplication operation  = ${n×m×k}$\n",
    "\n",
    "Total addition operation = ${n×m×(k-1)}$"
   ]
  },
  {
   "cell_type": "markdown",
   "id": "e7a96123",
   "metadata": {},
   "source": [
    "### Answer 2"
   ]
  },
  {
   "cell_type": "code",
   "execution_count": 1,
   "id": "3dc0b3c4",
   "metadata": {},
   "outputs": [],
   "source": [
    "import timeit\n",
    "import numpy as np\n",
    "import pandas as pd\n",
    "from sympy import *\n",
    "import matplotlib.pyplot as plt\n",
    "import jax\n",
    "import jax.numpy as jnp"
   ]
  },
  {
   "cell_type": "code",
   "execution_count": 2,
   "id": "4a357acb",
   "metadata": {},
   "outputs": [
    {
     "name": "stdout",
     "output_type": "stream",
     "text": [
      "[39, 42, 20, 68]\n",
      "Execution time: 9.540000000018978e-05 seconds\n"
     ]
    }
   ],
   "source": [
    "M1 = [[2, 5, 3]]   # Matrix(1,3)\n",
    "\n",
    "M2 = [[1, 2, 3, 8], [5, 4, 1, 5], [4, 6, 3, 9]]  # Matrix(3,4)\n",
    "\n",
    "def mat_mul(a, b):\n",
    "    \n",
    "    if len(a[0]) != len(b):\n",
    "        return \n",
    "    else:\n",
    "        M3 = [[0 for _ in range(len(b[0]))] for _ in range(len(a))]   # making a matrix of zeros\n",
    "        \n",
    "        for i in range(len(a)):\n",
    "            for j in range(len(b[0])):\n",
    "                for k in range(len(b)):\n",
    "                    M3[i][j] += a[i][k] * b[k][j]\n",
    "\n",
    "        for r in M3:\n",
    "            print(r)\n",
    "\n",
    "execution_time = timeit.timeit(lambda: mat_mul(M1, M2), number=1)\n",
    "\n",
    "print(f\"Execution time: {execution_time} seconds\")\n"
   ]
  },
  {
   "cell_type": "code",
   "execution_count": 3,
   "id": "998dcb31",
   "metadata": {},
   "outputs": [
    {
     "name": "stdout",
     "output_type": "stream",
     "text": [
      "[[39 42 20 68]]\n",
      "Execution time: 0.0011551000000000755 seconds\n"
     ]
    }
   ],
   "source": [
    "\n",
    "execution_time = timeit.timeit(lambda: print(np.dot(M1,M2)), number=1)\n",
    "\n",
    "print(f\"Execution time: {execution_time} seconds\")\n"
   ]
  },
  {
   "cell_type": "markdown",
   "id": "cf0b6e15",
   "metadata": {},
   "source": [
    "For method 1, the excecution time will be greater than the method 2 because there will be ${ n*m*k }$ multiplication operation, and ${ n*m*(k-1) }$ addition operation excecuted, using 3 for loop. Whereas for numpy dot multplication, uses vector multiplication that is many operations are excecuted simultaneously\n",
    "\n",
    "Due to the small length of the array, the time for excecution is irregular for above 2 methods. The excecution time should be in order method 1 > method 2 ."
   ]
  },
  {
   "cell_type": "markdown",
   "id": "d93ce56f",
   "metadata": {},
   "source": [
    "There is an error while install JAX so i was not able to do that"
   ]
  },
  {
   "cell_type": "markdown",
   "id": "88b993d7",
   "metadata": {},
   "source": [
    "### Answer 3"
   ]
  },
  {
   "cell_type": "code",
   "execution_count": 4,
   "id": "84ea92ae",
   "metadata": {},
   "outputs": [
    {
     "name": "stdout",
     "output_type": "stream",
     "text": [
      "5.0\n",
      "Execution time: 8.929999999995886e-05 seconds\n"
     ]
    }
   ],
   "source": [
    "# Method 1\n",
    "\n",
    "def Maximum(l):\n",
    "    Max = 0\n",
    "    for item in l:\n",
    "        if item > Max:\n",
    "            Max = item  \n",
    "    return Max\n",
    "\n",
    "def median_m1(l):\n",
    "    new_l = []\n",
    "\n",
    "    for i in range(len(l)):\n",
    "        new_l.append(Maximum(l))\n",
    "        l.remove(Maximum(l))\n",
    "\n",
    "    mid = len(new_l) // 2\n",
    "\n",
    "    if len(new_l) % 2 == 0:\n",
    "        return (new_l[mid - 1] + new_l[mid]) / 2\n",
    "    else:\n",
    "        return new_l[mid]\n",
    "\n",
    "l = [3, 6, 1, 7, 9, 4]\n",
    "new_l = []\n",
    "\n",
    "execution_time = timeit.timeit(lambda: print(median_m1(l)), number=1)\n",
    "\n",
    "print(f\"Execution time: {execution_time} seconds\")\n"
   ]
  },
  {
   "cell_type": "markdown",
   "id": "b55b6e7a",
   "metadata": {},
   "source": [
    "The Time complexity of the above code is ${ O(n^2) }$, as the for loop,\n",
    "\n",
    "for i in range(len(l)):\n",
    "\n",
    "        new_l.append(Maximum(l))\n",
    "        l.remove(Maximum(l))\n",
    "        \n",
    "As finding the biggest element in list is ${O(n)}$ and removing the biggest element from the list that takes ${O(n)}$, This operation are done simulatiously, So the time complexity of the loop is ${O(n^2)}$"
   ]
  },
  {
   "cell_type": "code",
   "execution_count": 5,
   "id": "c6c212ac",
   "metadata": {},
   "outputs": [
    {
     "name": "stdout",
     "output_type": "stream",
     "text": [
      "5.0\n",
      "Execution time: 0.0002676999999993157 seconds\n"
     ]
    }
   ],
   "source": [
    "# Method 2\n",
    "\n",
    "def median_m2(l):\n",
    "    l.sort(reverse = True)\n",
    "    mid = len(l)//2\n",
    "\n",
    "    if len(l) % 2 == 0:\n",
    "        return ((l[mid - 1] + l[mid]) / 2)\n",
    "    else:\n",
    "        return (l[mid])\n",
    "\n",
    "l  = [3, 6, 1, 7, 9, 4]\n",
    "\n",
    "execution_time = timeit.timeit(lambda : print(median_m2(l)), number=1)\n",
    "\n",
    "print(f\"Execution time: {execution_time} seconds\")"
   ]
  },
  {
   "cell_type": "code",
   "execution_count": 6,
   "id": "3a61012a",
   "metadata": {},
   "outputs": [
    {
     "name": "stdout",
     "output_type": "stream",
     "text": [
      "5.0\n",
      "Execution time: 0.00028100000000019776 seconds\n"
     ]
    }
   ],
   "source": [
    "# Method 3\n",
    "\n",
    "l  = [3, 6, 1, 7, 9, 4]\n",
    "\n",
    "execution_time = timeit.timeit(lambda : print(np.median(l)), number=1)\n",
    "\n",
    "print(f\"Execution time: {execution_time} seconds\")"
   ]
  },
  {
   "cell_type": "markdown",
   "id": "c472e37a",
   "metadata": {},
   "source": [
    "Due to the small length of the array, the time for excecution is irregular for above 3 methods. The excecution time should be in order method 1 > method 2 > method 3"
   ]
  },
  {
   "cell_type": "markdown",
   "id": "f47f6eb2",
   "metadata": {},
   "source": [
    "### Answer 4"
   ]
  },
  {
   "cell_type": "markdown",
   "id": "8ffbca2e",
   "metadata": {},
   "source": [
    "#### Gradient of f(x, y) =  ${x^2y + y^3sin(x)}$\n",
    "\n",
    "Differentiation wrt x = ${2xy + y^3cos(x)}$\n",
    "\n",
    "Differentiation wrt y = ${x^2 + 3y^2sin(x)}$\n"
   ]
  },
  {
   "cell_type": "markdown",
   "id": "0e7ead24",
   "metadata": {},
   "source": [
    "### Answer 5\n"
   ]
  },
  {
   "cell_type": "code",
   "execution_count": 7,
   "id": "48910185",
   "metadata": {},
   "outputs": [],
   "source": [
    "x, y = symbols('x y')\n",
    "f = x**2*y + y**3*jnp.sin(x)\n",
    "\n",
    "def gradient_func(x, y):\n",
    "    grad_x = (2*x*y) + (y**3)*np.cos(x)\n",
    "    grad_y = (x**2)+(3*(y**2)*np.sin(x))\n",
    "    return x_comp, y_comp\n",
    "\n",
    "def gradient_jax(x, y):\n",
    "    grad_x_jax = jax.grad(f, argnums=(0))\n",
    "    grad_y_jax = jax.grad(f, argnums=(1))\n",
    "    return grad_x, grad_y\n",
    "\n",
    "for i in range(1, 11):\n",
    "    x_value = np.random.rand()\n",
    "    y_value = np.random.rand()\n",
    "    \n",
    "    a = gradient_func(x_result, y_result)\n",
    "    print(\"Vaue obtained by function: \", a[0], a[1])\n",
    "    b = gradient_jax(x_result, y_result)\n",
    "    print(\"Value obtained by jax: \", b[0], b[1])\n",
    "    \n",
    "    if a[0] == b[0] and b[1] == a[1]:\n",
    "        print('Hence Verified')\n",
    "    print()\n"
   ]
  },
  {
   "cell_type": "markdown",
   "id": "7f43c0f9",
   "metadata": {},
   "source": [
    "### Answer 6"
   ]
  },
  {
   "cell_type": "code",
   "execution_count": 8,
   "id": "b03ccf16",
   "metadata": {},
   "outputs": [
    {
     "data": {
      "text/latex": [
       "$\\displaystyle 2 x y + y^{3} \\cos{\\left(x \\right)}$"
      ],
      "text/plain": [
       "2*x*y + y**3*cos(x)"
      ]
     },
     "execution_count": 8,
     "metadata": {},
     "output_type": "execute_result"
    }
   ],
   "source": [
    "x, y = symbols('x y')\n",
    "diff(x**2*y + y**3*sin(x),x)"
   ]
  },
  {
   "cell_type": "code",
   "execution_count": 9,
   "id": "7cee96dc",
   "metadata": {},
   "outputs": [
    {
     "data": {
      "text/latex": [
       "$\\displaystyle x^{2} + 3 y^{2} \\sin{\\left(x \\right)}$"
      ],
      "text/plain": [
       "x**2 + 3*y**2*sin(x)"
      ]
     },
     "execution_count": 9,
     "metadata": {},
     "output_type": "execute_result"
    }
   ],
   "source": [
    "x, y = symbols('x y')\n",
    "diff(x**2*y + y**3*sin(x),y)"
   ]
  },
  {
   "cell_type": "markdown",
   "id": "717ed847",
   "metadata": {},
   "source": [
    "### Answer 7"
   ]
  },
  {
   "cell_type": "code",
   "execution_count": 10,
   "id": "a484039b",
   "metadata": {},
   "outputs": [
    {
     "name": "stdout",
     "output_type": "stream",
     "text": [
      "{2022: {'Branch 1': {1: {'Roll number': '1', 'Name': 'a', 'Marks': {'Maths': 45, 'English': 48}}, 2: {'Roll number': '2', 'Name': 'b', 'Marks': {'Maths': 56, 'English': 87}}}, 'Branch 2': {1: {'Roll number': '1', 'Name': 'c', 'Marks': {'Maths': 87, 'English': 68}}, 2: {'Roll number': '2', 'Name': 'd', 'Marks': {'Maths': 58, 'English': 97}}}}, 2023: {'Branch 1': {1: {'Roll number': '1', 'Name': 'e', 'Marks': {'Maths': 57, 'English': 85}}, 2: {'Roll number': '2', 'Name': 'f', 'Marks': {'Maths': 67, 'English': 57}}}, 'Branch 2': {1: {'Roll number': '1', 'Name': 'g', 'Marks': {'Maths': 84, 'English': 56}}, 2: {'Roll number': '2', 'Name': 'h', 'Marks': {'Maths': 59, 'English': 84}}}}, 2024: {'Branch 1': {1: {'Roll number': '1', 'Name': 'i', 'Marks': {'Maths': 65, 'English': 44}}, 2: {'Roll number': '2', 'Name': 'j', 'Marks': {'Maths': 76, 'English': 67}}}, 'Branch 2': {1: {'Roll number': '1', 'Name': 'k', 'Marks': {'Maths': 48, 'English': 45}}, 2: {'Roll number': '2', 'Name': 'l', 'Marks': {'Maths': 66, 'English': 67}}}}, 2025: {'Branch 1': {1: {'Roll number': '1', 'Name': 'm', 'Marks': {'Maths': 35, 'English': 57}}, 2: {'Roll number': '2', 'Name': 'n', 'Marks': {'Maths': 66, 'English': 45}}}, 'Branch 2': {1: {'Roll number': '1', 'Name': 'o', 'Marks': {'Maths': 63, 'English': 67}}, 2: {'Roll number': '2', 'Name': 'p', 'Marks': {'Maths': 54, 'English': 86}}}}}\n"
     ]
    }
   ],
   "source": [
    "data = {\n",
    "    2022: {\n",
    "        'Branch 1': {\n",
    "            1: {'Roll number':'1','Name': 'a', 'Marks': {'Maths': 45, 'English': 48}},\n",
    "            2: {'Roll number':'2','Name': 'b', 'Marks': {'Maths': 56, 'English': 87}},\n",
    "        },\n",
    "        'Branch 2': {\n",
    "            1: {'Roll number':'1','Name': 'c', 'Marks': {'Maths': 87, 'English': 68}},\n",
    "            2: {'Roll number':'2','Name': 'd', 'Marks': {'Maths': 58, 'English': 97}},\n",
    "        }\n",
    "    },\n",
    "    2023: {\n",
    "        'Branch 1': {\n",
    "            1: {'Roll number':'1','Name': 'e', 'Marks': {'Maths': 57, 'English': 85}},\n",
    "            2: {'Roll number':'2','Name': 'f', 'Marks': {'Maths': 67, 'English': 57}},\n",
    "        },\n",
    "        'Branch 2': {\n",
    "            1: {'Roll number':'1','Name': 'g', 'Marks': {'Maths': 84, 'English': 56}},\n",
    "            2: {'Roll number':'2','Name': 'h', 'Marks': {'Maths': 59, 'English': 84}},\n",
    "        },\n",
    "    },\n",
    "    2024: {\n",
    "        'Branch 1': {\n",
    "            1: {'Roll number':'1','Name': 'i', 'Marks': {'Maths': 65, 'English': 44}},\n",
    "            2: {'Roll number':'2','Name': 'j', 'Marks': {'Maths': 76, 'English': 67}},\n",
    "        },\n",
    "        'Branch 2': {\n",
    "            1: {'Roll number':'1','Name': 'k', 'Marks': {'Maths': 48, 'English': 45}},\n",
    "            2: {'Roll number':'2','Name': 'l', 'Marks': {'Maths': 66, 'English': 67}},\n",
    "        },\n",
    "    },\n",
    "    2025: {\n",
    "        'Branch 1': {\n",
    "            1: {'Roll number':'1','Name': 'm', 'Marks': {'Maths': 35, 'English': 57}},\n",
    "            2: {'Roll number':'2','Name': 'n', 'Marks': {'Maths': 66, 'English': 45}},\n",
    "        },\n",
    "        'Branch 2': {\n",
    "            1: {'Roll number':'1','Name': 'o', 'Marks': {'Maths': 63, 'English': 67}},\n",
    "            2: {'Roll number':'2','Name': 'p', 'Marks': {'Maths': 54, 'English': 86}},\n",
    "        },\n",
    "    },\n",
    "}\n",
    "\n",
    "\n",
    "print(data)\n"
   ]
  },
  {
   "cell_type": "markdown",
   "id": "198fbd13",
   "metadata": {},
   "source": [
    "### Answer 8"
   ]
  },
  {
   "cell_type": "code",
   "execution_count": 26,
   "id": "532364a2",
   "metadata": {},
   "outputs": [
    {
     "name": "stdout",
     "output_type": "stream",
     "text": [
      "{2022: {'Branch 1': {1: {'Roll number': '1', 'Name': 'H', 'Marks': {'Maths': 95, 'English': 45}}, 2: {'Roll number': '2', 'Name': 'G', 'Marks': {'Maths': 42, 'English': 72}}}, 'Branch 2': {1: {'Roll number': '1', 'Name': 'X', 'Marks': {'Maths': 95, 'English': 52}}, 2: {'Roll number': '2', 'Name': 'X', 'Marks': {'Maths': 72, 'English': 49}}}}, 2023: {'Branch 1': {1: {'Roll number': '1', 'Name': 'F', 'Marks': {'Maths': 77, 'English': 61}}, 2: {'Roll number': '2', 'Name': 'I', 'Marks': {'Maths': 76, 'English': 61}}}, 'Branch 2': {1: {'Roll number': '1', 'Name': 'P', 'Marks': {'Maths': 99, 'English': 49}}, 2: {'Roll number': '2', 'Name': 'V', 'Marks': {'Maths': 97, 'English': 79}}}}, 2024: {'Branch 1': {1: {'Roll number': '1', 'Name': 'N', 'Marks': {'Maths': 38, 'English': 52}}, 2: {'Roll number': '2', 'Name': 'F', 'Marks': {'Maths': 73, 'English': 51}}}, 'Branch 2': {1: {'Roll number': '1', 'Name': 'B', 'Marks': {'Maths': 30, 'English': 72}}, 2: {'Roll number': '2', 'Name': 'J', 'Marks': {'Maths': 71, 'English': 52}}}}, 2025: {'Branch 1': {1: {'Roll number': '1', 'Name': 'Y', 'Marks': {'Maths': 39, 'English': 31}}, 2: {'Roll number': '2', 'Name': 'K', 'Marks': {'Maths': 94, 'English': 52}}}, 'Branch 2': {1: {'Roll number': '1', 'Name': 'B', 'Marks': {'Maths': 97, 'English': 33}}, 2: {'Roll number': '2', 'Name': 'V', 'Marks': {'Maths': 73, 'English': 38}}}}}\n"
     ]
    }
   ],
   "source": [
    "class Student:\n",
    "    def __init__(self, roll_number, name):\n",
    "        self.roll_number = roll_number\n",
    "        self.name = name\n",
    "        self.marks = {}\n",
    "\n",
    "class Branch:\n",
    "    def __init__(self, name):\n",
    "        self.name = name\n",
    "        self.students = {}\n",
    "\n",
    "class Year:\n",
    "    def __init__(self, year):\n",
    "        self.year = year\n",
    "        self.branches = {}\n",
    "\n",
    "    def add_branch(self, branch_name):\n",
    "        self.branches[branch_name] = Branch(branch_name)\n",
    "\n",
    "years = 4\n",
    "branches = 2\n",
    "num_students_per_branch = 2 \n",
    "\n",
    "database = {}\n",
    "\n",
    "for index_y in range(years):\n",
    "    year_number = 2022 + index_y\n",
    "    database[year_number] = {}\n",
    "\n",
    "    for index_b in range(branches):\n",
    "        branch_name = f'Branch {index_b + 1}'\n",
    "        database[year_number][branch_name] = {}\n",
    "\n",
    "        for index_s in range(num_students_per_branch):\n",
    "            roll_number = str(index_s + 1 )\n",
    "            name = chr(np.random.randint(65, 90) )\n",
    "            marks = {'Maths': np.random.randint(30, 100), 'English': np.random.randint(30, 100)}\n",
    "\n",
    "            database[year_number][branch_name][int(roll_number)] = {\n",
    "                'Roll number': str(roll_number),\n",
    "                'Name': name,\n",
    "                'Marks': marks\n",
    "            }\n",
    "\n",
    "print(database)"
   ]
  },
  {
   "cell_type": "markdown",
   "id": "6021dae0",
   "metadata": {},
   "source": [
    "### Answer 9"
   ]
  },
  {
   "cell_type": "code",
   "execution_count": 12,
   "id": "5bec73c9",
   "metadata": {},
   "outputs": [
    {
     "data": {
      "text/plain": [
       "<matplotlib.legend.Legend at 0x1e3467e8fc8>"
      ]
     },
     "execution_count": 12,
     "metadata": {},
     "output_type": "execute_result"
    },
    {
     "data": {
      "image/png": "[encoded data removed]",
      "text/plain": [
       "<Figure size 640x480 with 1 Axes>"
      ]
     },
     "metadata": {},
     "output_type": "display_data"
    }
   ],
   "source": [
    "x = np.arange(0.5, 100.5, 0.5)\n",
    "y = x\n",
    "\n",
    "plt.plot(x, y, label='y = x')\n",
    "plt.xlabel('x')\n",
    "plt.ylabel('y')\n",
    "plt.legend()"
   ]
  },
  {
   "cell_type": "code",
   "execution_count": 13,
   "id": "2289b657",
   "metadata": {},
   "outputs": [
    {
     "data": {
      "text/plain": [
       "<matplotlib.legend.Legend at 0x1e3488f3208>"
      ]
     },
     "execution_count": 13,
     "metadata": {},
     "output_type": "execute_result"
    },
    {
     "data": {
      "image/png": "[encoded data removed]",
      "text/plain": [
       "<Figure size 640x480 with 1 Axes>"
      ]
     },
     "metadata": {},
     "output_type": "display_data"
    }
   ],
   "source": [
    "x = np.arange(0.5, 100.5, 0.5)\n",
    "y = x**2\n",
    "\n",
    "plt.plot(x, y, label='y = x^2')\n",
    "plt.xlabel('x')\n",
    "plt.ylabel('y')\n",
    "plt.legend()"
   ]
  },
  {
   "cell_type": "code",
   "execution_count": 14,
   "id": "b4bafdfa",
   "metadata": {},
   "outputs": [
    {
     "data": {
      "text/plain": [
       "<matplotlib.legend.Legend at 0x1e3488c0348>"
      ]
     },
     "execution_count": 14,
     "metadata": {},
     "output_type": "execute_result"
    },
    {
     "data": {
      "image/png": "[encoded data removed]",
      "text/plain": [
       "<Figure size 640x480 with 1 Axes>"
      ]
     },
     "metadata": {},
     "output_type": "display_data"
    }
   ],
   "source": [
    "x = np.arange(0.5, 100.5, 0.5)\n",
    "y = x**3/100\n",
    "\n",
    "plt.plot(x, y, label='y = x^3/100')\n",
    "plt.xlabel('x')\n",
    "plt.ylabel('y')\n",
    "plt.legend()"
   ]
  },
  {
   "cell_type": "code",
   "execution_count": 15,
   "id": "3f3d4c57",
   "metadata": {},
   "outputs": [
    {
     "data": {
      "text/plain": [
       "<matplotlib.legend.Legend at 0x1e348951ec8>"
      ]
     },
     "execution_count": 15,
     "metadata": {},
     "output_type": "execute_result"
    },
    {
     "data": {
      "image/png": "[encoded data removed]",
      "text/plain": [
       "<Figure size 640x480 with 1 Axes>"
      ]
     },
     "metadata": {},
     "output_type": "display_data"
    }
   ],
   "source": [
    "x = np.arange(0.5, 100.5, 0.5)\n",
    "y = np.sin(x)\n",
    "\n",
    "plt.plot(x, y, label='y = sin(x)')\n",
    "plt.xlabel('x')\n",
    "plt.ylabel('y')\n",
    "plt.legend()"
   ]
  },
  {
   "cell_type": "code",
   "execution_count": 16,
   "id": "53050732",
   "metadata": {},
   "outputs": [
    {
     "data": {
      "text/plain": [
       "<matplotlib.legend.Legend at 0x1e3467dda48>"
      ]
     },
     "execution_count": 16,
     "metadata": {},
     "output_type": "execute_result"
    },
    {
     "data": {
      "image/png": "[encoded data removed]",
      "text/plain": [
       "<Figure size 640x480 with 1 Axes>"
      ]
     },
     "metadata": {},
     "output_type": "display_data"
    }
   ],
   "source": [
    "x = np.arange(0.5, 100.5, 0.5)\n",
    "y = (np.sin(x))/x\n",
    "\n",
    "plt.plot(x, y, label='y = sin(x)/x')\n",
    "plt.xlabel('x')\n",
    "plt.ylabel('y')\n",
    "plt.legend()"
   ]
  },
  {
   "cell_type": "code",
   "execution_count": 17,
   "id": "2b82e4db",
   "metadata": {},
   "outputs": [
    {
     "data": {
      "text/plain": [
       "<matplotlib.legend.Legend at 0x1e348c14648>"
      ]
     },
     "execution_count": 17,
     "metadata": {},
     "output_type": "execute_result"
    },
    {
     "data": {
      "image/png": "[encoded data removed]",
      "text/plain": [
       "<Figure size 640x480 with 1 Axes>"
      ]
     },
     "metadata": {},
     "output_type": "display_data"
    }
   ],
   "source": [
    "x = np.arange(0.5, 100.5, 0.5)\n",
    "y = np.log(x)\n",
    "\n",
    "plt.plot(x, y, label='y = log(x)')\n",
    "plt.xlabel('x')\n",
    "plt.ylabel('y')\n",
    "plt.legend()"
   ]
  },
  {
   "cell_type": "code",
   "execution_count": 18,
   "id": "f0a77302",
   "metadata": {},
   "outputs": [
    {
     "data": {
      "text/plain": [
       "<matplotlib.legend.Legend at 0x1e348b17cc8>"
      ]
     },
     "execution_count": 18,
     "metadata": {},
     "output_type": "execute_result"
    },
    {
     "data": {
      "image/png": "[encoded data removed]",
      "text/plain": [
       "<Figure size 640x480 with 1 Axes>"
      ]
     },
     "metadata": {},
     "output_type": "display_data"
    }
   ],
   "source": [
    "x = np.arange(0.5, 100.5, 0.5)\n",
    "y = np.exp(x)\n",
    "\n",
    "plt.plot(x, y, label='y = exp(x)')\n",
    "plt.xlabel('x')\n",
    "plt.ylabel('y')\n",
    "plt.legend()"
   ]
  },
  {
   "cell_type": "markdown",
   "id": "1d774318",
   "metadata": {},
   "source": [
    "### Answer 10"
   ]
  },
  {
   "cell_type": "code",
   "execution_count": 19,
   "id": "d6fa46bf",
   "metadata": {},
   "outputs": [
    {
     "data": {
      "text/html": [
       "<div>\n",
       "<style scoped>\n",
       "    .dataframe tbody tr th:only-of-type {\n",
       "        vertical-align: middle;\n",
       "    }\n",
       "\n",
       "    .dataframe tbody tr th {\n",
       "        vertical-align: top;\n",
       "    }\n",
       "\n",
       "    .dataframe thead th {\n",
       "        text-align: right;\n",
       "    }\n",
       "</style>\n",
       "<table border=\"1\" class=\"dataframe\">\n",
       "  <thead>\n",
       "    <tr style=\"text-align: right;\">\n",
       "      <th></th>\n",
       "      <th>a</th>\n",
       "      <th>b</th>\n",
       "      <th>c</th>\n",
       "      <th>d</th>\n",
       "      <th>e</th>\n",
       "    </tr>\n",
       "  </thead>\n",
       "  <tbody>\n",
       "    <tr>\n",
       "      <th>0</th>\n",
       "      <td>1.994245</td>\n",
       "      <td>1.547024</td>\n",
       "      <td>1.322708</td>\n",
       "      <td>1.397499</td>\n",
       "      <td>1.847295</td>\n",
       "    </tr>\n",
       "    <tr>\n",
       "      <th>1</th>\n",
       "      <td>1.352188</td>\n",
       "      <td>1.548048</td>\n",
       "      <td>1.368919</td>\n",
       "      <td>1.090848</td>\n",
       "      <td>1.978065</td>\n",
       "    </tr>\n",
       "    <tr>\n",
       "      <th>2</th>\n",
       "      <td>1.344701</td>\n",
       "      <td>1.254203</td>\n",
       "      <td>1.725062</td>\n",
       "      <td>1.172478</td>\n",
       "      <td>1.853537</td>\n",
       "    </tr>\n",
       "    <tr>\n",
       "      <th>3</th>\n",
       "      <td>1.719103</td>\n",
       "      <td>1.544721</td>\n",
       "      <td>1.675587</td>\n",
       "      <td>1.359081</td>\n",
       "      <td>1.854617</td>\n",
       "    </tr>\n",
       "    <tr>\n",
       "      <th>4</th>\n",
       "      <td>1.116331</td>\n",
       "      <td>1.722565</td>\n",
       "      <td>1.277361</td>\n",
       "      <td>1.047585</td>\n",
       "      <td>1.699435</td>\n",
       "    </tr>\n",
       "    <tr>\n",
       "      <th>5</th>\n",
       "      <td>1.914431</td>\n",
       "      <td>1.265789</td>\n",
       "      <td>1.112658</td>\n",
       "      <td>1.801021</td>\n",
       "      <td>1.601470</td>\n",
       "    </tr>\n",
       "    <tr>\n",
       "      <th>6</th>\n",
       "      <td>1.289015</td>\n",
       "      <td>1.269937</td>\n",
       "      <td>1.677324</td>\n",
       "      <td>1.152437</td>\n",
       "      <td>1.043103</td>\n",
       "    </tr>\n",
       "    <tr>\n",
       "      <th>7</th>\n",
       "      <td>1.492647</td>\n",
       "      <td>1.544749</td>\n",
       "      <td>1.671953</td>\n",
       "      <td>1.157626</td>\n",
       "      <td>1.757689</td>\n",
       "    </tr>\n",
       "    <tr>\n",
       "      <th>8</th>\n",
       "      <td>1.149094</td>\n",
       "      <td>1.758081</td>\n",
       "      <td>1.201738</td>\n",
       "      <td>1.221199</td>\n",
       "      <td>1.737561</td>\n",
       "    </tr>\n",
       "    <tr>\n",
       "      <th>9</th>\n",
       "      <td>1.666958</td>\n",
       "      <td>1.658609</td>\n",
       "      <td>1.900684</td>\n",
       "      <td>1.031788</td>\n",
       "      <td>1.789589</td>\n",
       "    </tr>\n",
       "    <tr>\n",
       "      <th>10</th>\n",
       "      <td>1.061703</td>\n",
       "      <td>1.053316</td>\n",
       "      <td>1.492539</td>\n",
       "      <td>1.082718</td>\n",
       "      <td>1.686739</td>\n",
       "    </tr>\n",
       "    <tr>\n",
       "      <th>11</th>\n",
       "      <td>1.660195</td>\n",
       "      <td>1.902677</td>\n",
       "      <td>1.012366</td>\n",
       "      <td>1.974669</td>\n",
       "      <td>1.539482</td>\n",
       "    </tr>\n",
       "    <tr>\n",
       "      <th>12</th>\n",
       "      <td>1.072200</td>\n",
       "      <td>1.781611</td>\n",
       "      <td>1.165796</td>\n",
       "      <td>1.906952</td>\n",
       "      <td>1.443602</td>\n",
       "    </tr>\n",
       "    <tr>\n",
       "      <th>13</th>\n",
       "      <td>1.350450</td>\n",
       "      <td>1.914388</td>\n",
       "      <td>1.112076</td>\n",
       "      <td>1.391601</td>\n",
       "      <td>1.014398</td>\n",
       "    </tr>\n",
       "    <tr>\n",
       "      <th>14</th>\n",
       "      <td>1.877449</td>\n",
       "      <td>1.138184</td>\n",
       "      <td>1.004102</td>\n",
       "      <td>1.262276</td>\n",
       "      <td>1.426127</td>\n",
       "    </tr>\n",
       "    <tr>\n",
       "      <th>15</th>\n",
       "      <td>1.184535</td>\n",
       "      <td>1.575062</td>\n",
       "      <td>1.360449</td>\n",
       "      <td>1.964682</td>\n",
       "      <td>1.464797</td>\n",
       "    </tr>\n",
       "    <tr>\n",
       "      <th>16</th>\n",
       "      <td>1.066271</td>\n",
       "      <td>1.544713</td>\n",
       "      <td>1.089849</td>\n",
       "      <td>1.706229</td>\n",
       "      <td>1.941654</td>\n",
       "    </tr>\n",
       "    <tr>\n",
       "      <th>17</th>\n",
       "      <td>1.873202</td>\n",
       "      <td>1.381664</td>\n",
       "      <td>1.811045</td>\n",
       "      <td>1.087214</td>\n",
       "      <td>1.305199</td>\n",
       "    </tr>\n",
       "    <tr>\n",
       "      <th>18</th>\n",
       "      <td>1.671319</td>\n",
       "      <td>1.481661</td>\n",
       "      <td>1.966128</td>\n",
       "      <td>1.377905</td>\n",
       "      <td>1.497476</td>\n",
       "    </tr>\n",
       "    <tr>\n",
       "      <th>19</th>\n",
       "      <td>1.537174</td>\n",
       "      <td>1.770582</td>\n",
       "      <td>1.351077</td>\n",
       "      <td>1.151232</td>\n",
       "      <td>1.529600</td>\n",
       "    </tr>\n",
       "  </tbody>\n",
       "</table>\n",
       "</div>"
      ],
      "text/plain": [
       "           a         b         c         d         e\n",
       "0   1.994245  1.547024  1.322708  1.397499  1.847295\n",
       "1   1.352188  1.548048  1.368919  1.090848  1.978065\n",
       "2   1.344701  1.254203  1.725062  1.172478  1.853537\n",
       "3   1.719103  1.544721  1.675587  1.359081  1.854617\n",
       "4   1.116331  1.722565  1.277361  1.047585  1.699435\n",
       "5   1.914431  1.265789  1.112658  1.801021  1.601470\n",
       "6   1.289015  1.269937  1.677324  1.152437  1.043103\n",
       "7   1.492647  1.544749  1.671953  1.157626  1.757689\n",
       "8   1.149094  1.758081  1.201738  1.221199  1.737561\n",
       "9   1.666958  1.658609  1.900684  1.031788  1.789589\n",
       "10  1.061703  1.053316  1.492539  1.082718  1.686739\n",
       "11  1.660195  1.902677  1.012366  1.974669  1.539482\n",
       "12  1.072200  1.781611  1.165796  1.906952  1.443602\n",
       "13  1.350450  1.914388  1.112076  1.391601  1.014398\n",
       "14  1.877449  1.138184  1.004102  1.262276  1.426127\n",
       "15  1.184535  1.575062  1.360449  1.964682  1.464797\n",
       "16  1.066271  1.544713  1.089849  1.706229  1.941654\n",
       "17  1.873202  1.381664  1.811045  1.087214  1.305199\n",
       "18  1.671319  1.481661  1.966128  1.377905  1.497476\n",
       "19  1.537174  1.770582  1.351077  1.151232  1.529600"
      ]
     },
     "execution_count": 19,
     "metadata": {},
     "output_type": "execute_result"
    }
   ],
   "source": [
    "matrix = np.random.uniform(1,2, size = (20,5))\n",
    "\n",
    "df = pd.DataFrame(data = matrix, columns = ['a', 'b', 'c', 'd', 'e'])\n",
    "df"
   ]
  },
  {
   "cell_type": "code",
   "execution_count": 20,
   "id": "cbff595b",
   "metadata": {},
   "outputs": [
    {
     "name": "stdout",
     "output_type": "stream",
     "text": [
      "\n",
      "For standard deviation\n",
      "a    0.312683\n",
      "b    0.244432\n",
      "c    0.304826\n",
      "d    0.322771\n",
      "e    0.269418\n",
      "dtype: float64\n",
      "\n",
      "For Mean\n",
      "0     1.621754\n",
      "1     1.467614\n",
      "2     1.469996\n",
      "3     1.630622\n",
      "4     1.372655\n",
      "5     1.539074\n",
      "6     1.286363\n",
      "7     1.524933\n",
      "8     1.413535\n",
      "9     1.609526\n",
      "10    1.275403\n",
      "11    1.617878\n",
      "12    1.474032\n",
      "13    1.356583\n",
      "14    1.341627\n",
      "15    1.509905\n",
      "16    1.469743\n",
      "17    1.491665\n",
      "18    1.598898\n",
      "19    1.467933\n",
      "dtype: float64\n",
      "\n",
      "The column with the highest standard deviation  d\n",
      "the row with the lowest mean  10\n"
     ]
    }
   ],
   "source": [
    "std_dev = df.std()\n",
    "mean = df.mean(axis = 1)\n",
    "print(\"\\nFor standard deviation\")\n",
    "print(std_dev)\n",
    "print(\"\\nFor Mean\")\n",
    "print(mean)\n",
    "print(\"\\nThe column with the highest standard deviation \",std_dev.idxmax())\n",
    "print(\"the row with the lowest mean \",mean.idxmin())\n"
   ]
  },
  {
   "cell_type": "markdown",
   "id": "02bab4cd",
   "metadata": {},
   "source": [
    "### Answer 11"
   ]
  },
  {
   "cell_type": "code",
   "execution_count": 21,
   "id": "bb926a71",
   "metadata": {},
   "outputs": [
    {
     "data": {
      "text/html": [
       "<div>\n",
       "<style scoped>\n",
       "    .dataframe tbody tr th:only-of-type {\n",
       "        vertical-align: middle;\n",
       "    }\n",
       "\n",
       "    .dataframe tbody tr th {\n",
       "        vertical-align: top;\n",
       "    }\n",
       "\n",
       "    .dataframe thead th {\n",
       "        text-align: right;\n",
       "    }\n",
       "</style>\n",
       "<table border=\"1\" class=\"dataframe\">\n",
       "  <thead>\n",
       "    <tr style=\"text-align: right;\">\n",
       "      <th></th>\n",
       "      <th>a</th>\n",
       "      <th>b</th>\n",
       "      <th>c</th>\n",
       "      <th>d</th>\n",
       "      <th>e</th>\n",
       "      <th>f</th>\n",
       "    </tr>\n",
       "  </thead>\n",
       "  <tbody>\n",
       "    <tr>\n",
       "      <th>0</th>\n",
       "      <td>1.994245</td>\n",
       "      <td>1.547024</td>\n",
       "      <td>1.322708</td>\n",
       "      <td>1.397499</td>\n",
       "      <td>1.847295</td>\n",
       "      <td>8.108772</td>\n",
       "    </tr>\n",
       "    <tr>\n",
       "      <th>1</th>\n",
       "      <td>1.352188</td>\n",
       "      <td>1.548048</td>\n",
       "      <td>1.368919</td>\n",
       "      <td>1.090848</td>\n",
       "      <td>1.978065</td>\n",
       "      <td>7.338069</td>\n",
       "    </tr>\n",
       "    <tr>\n",
       "      <th>2</th>\n",
       "      <td>1.344701</td>\n",
       "      <td>1.254203</td>\n",
       "      <td>1.725062</td>\n",
       "      <td>1.172478</td>\n",
       "      <td>1.853537</td>\n",
       "      <td>7.349980</td>\n",
       "    </tr>\n",
       "    <tr>\n",
       "      <th>3</th>\n",
       "      <td>1.719103</td>\n",
       "      <td>1.544721</td>\n",
       "      <td>1.675587</td>\n",
       "      <td>1.359081</td>\n",
       "      <td>1.854617</td>\n",
       "      <td>8.153109</td>\n",
       "    </tr>\n",
       "    <tr>\n",
       "      <th>4</th>\n",
       "      <td>1.116331</td>\n",
       "      <td>1.722565</td>\n",
       "      <td>1.277361</td>\n",
       "      <td>1.047585</td>\n",
       "      <td>1.699435</td>\n",
       "      <td>6.863277</td>\n",
       "    </tr>\n",
       "    <tr>\n",
       "      <th>5</th>\n",
       "      <td>1.914431</td>\n",
       "      <td>1.265789</td>\n",
       "      <td>1.112658</td>\n",
       "      <td>1.801021</td>\n",
       "      <td>1.601470</td>\n",
       "      <td>7.695369</td>\n",
       "    </tr>\n",
       "    <tr>\n",
       "      <th>6</th>\n",
       "      <td>1.289015</td>\n",
       "      <td>1.269937</td>\n",
       "      <td>1.677324</td>\n",
       "      <td>1.152437</td>\n",
       "      <td>1.043103</td>\n",
       "      <td>6.431815</td>\n",
       "    </tr>\n",
       "    <tr>\n",
       "      <th>7</th>\n",
       "      <td>1.492647</td>\n",
       "      <td>1.544749</td>\n",
       "      <td>1.671953</td>\n",
       "      <td>1.157626</td>\n",
       "      <td>1.757689</td>\n",
       "      <td>7.624664</td>\n",
       "    </tr>\n",
       "    <tr>\n",
       "      <th>8</th>\n",
       "      <td>1.149094</td>\n",
       "      <td>1.758081</td>\n",
       "      <td>1.201738</td>\n",
       "      <td>1.221199</td>\n",
       "      <td>1.737561</td>\n",
       "      <td>7.067673</td>\n",
       "    </tr>\n",
       "    <tr>\n",
       "      <th>9</th>\n",
       "      <td>1.666958</td>\n",
       "      <td>1.658609</td>\n",
       "      <td>1.900684</td>\n",
       "      <td>1.031788</td>\n",
       "      <td>1.789589</td>\n",
       "      <td>8.047628</td>\n",
       "    </tr>\n",
       "    <tr>\n",
       "      <th>10</th>\n",
       "      <td>1.061703</td>\n",
       "      <td>1.053316</td>\n",
       "      <td>1.492539</td>\n",
       "      <td>1.082718</td>\n",
       "      <td>1.686739</td>\n",
       "      <td>6.377015</td>\n",
       "    </tr>\n",
       "    <tr>\n",
       "      <th>11</th>\n",
       "      <td>1.660195</td>\n",
       "      <td>1.902677</td>\n",
       "      <td>1.012366</td>\n",
       "      <td>1.974669</td>\n",
       "      <td>1.539482</td>\n",
       "      <td>8.089388</td>\n",
       "    </tr>\n",
       "    <tr>\n",
       "      <th>12</th>\n",
       "      <td>1.072200</td>\n",
       "      <td>1.781611</td>\n",
       "      <td>1.165796</td>\n",
       "      <td>1.906952</td>\n",
       "      <td>1.443602</td>\n",
       "      <td>7.370161</td>\n",
       "    </tr>\n",
       "    <tr>\n",
       "      <th>13</th>\n",
       "      <td>1.350450</td>\n",
       "      <td>1.914388</td>\n",
       "      <td>1.112076</td>\n",
       "      <td>1.391601</td>\n",
       "      <td>1.014398</td>\n",
       "      <td>6.782913</td>\n",
       "    </tr>\n",
       "    <tr>\n",
       "      <th>14</th>\n",
       "      <td>1.877449</td>\n",
       "      <td>1.138184</td>\n",
       "      <td>1.004102</td>\n",
       "      <td>1.262276</td>\n",
       "      <td>1.426127</td>\n",
       "      <td>6.708137</td>\n",
       "    </tr>\n",
       "    <tr>\n",
       "      <th>15</th>\n",
       "      <td>1.184535</td>\n",
       "      <td>1.575062</td>\n",
       "      <td>1.360449</td>\n",
       "      <td>1.964682</td>\n",
       "      <td>1.464797</td>\n",
       "      <td>7.549525</td>\n",
       "    </tr>\n",
       "    <tr>\n",
       "      <th>16</th>\n",
       "      <td>1.066271</td>\n",
       "      <td>1.544713</td>\n",
       "      <td>1.089849</td>\n",
       "      <td>1.706229</td>\n",
       "      <td>1.941654</td>\n",
       "      <td>7.348716</td>\n",
       "    </tr>\n",
       "    <tr>\n",
       "      <th>17</th>\n",
       "      <td>1.873202</td>\n",
       "      <td>1.381664</td>\n",
       "      <td>1.811045</td>\n",
       "      <td>1.087214</td>\n",
       "      <td>1.305199</td>\n",
       "      <td>7.458324</td>\n",
       "    </tr>\n",
       "    <tr>\n",
       "      <th>18</th>\n",
       "      <td>1.671319</td>\n",
       "      <td>1.481661</td>\n",
       "      <td>1.966128</td>\n",
       "      <td>1.377905</td>\n",
       "      <td>1.497476</td>\n",
       "      <td>7.994488</td>\n",
       "    </tr>\n",
       "    <tr>\n",
       "      <th>19</th>\n",
       "      <td>1.537174</td>\n",
       "      <td>1.770582</td>\n",
       "      <td>1.351077</td>\n",
       "      <td>1.151232</td>\n",
       "      <td>1.529600</td>\n",
       "      <td>7.339666</td>\n",
       "    </tr>\n",
       "  </tbody>\n",
       "</table>\n",
       "</div>"
      ],
      "text/plain": [
       "           a         b         c         d         e         f\n",
       "0   1.994245  1.547024  1.322708  1.397499  1.847295  8.108772\n",
       "1   1.352188  1.548048  1.368919  1.090848  1.978065  7.338069\n",
       "2   1.344701  1.254203  1.725062  1.172478  1.853537  7.349980\n",
       "3   1.719103  1.544721  1.675587  1.359081  1.854617  8.153109\n",
       "4   1.116331  1.722565  1.277361  1.047585  1.699435  6.863277\n",
       "5   1.914431  1.265789  1.112658  1.801021  1.601470  7.695369\n",
       "6   1.289015  1.269937  1.677324  1.152437  1.043103  6.431815\n",
       "7   1.492647  1.544749  1.671953  1.157626  1.757689  7.624664\n",
       "8   1.149094  1.758081  1.201738  1.221199  1.737561  7.067673\n",
       "9   1.666958  1.658609  1.900684  1.031788  1.789589  8.047628\n",
       "10  1.061703  1.053316  1.492539  1.082718  1.686739  6.377015\n",
       "11  1.660195  1.902677  1.012366  1.974669  1.539482  8.089388\n",
       "12  1.072200  1.781611  1.165796  1.906952  1.443602  7.370161\n",
       "13  1.350450  1.914388  1.112076  1.391601  1.014398  6.782913\n",
       "14  1.877449  1.138184  1.004102  1.262276  1.426127  6.708137\n",
       "15  1.184535  1.575062  1.360449  1.964682  1.464797  7.549525\n",
       "16  1.066271  1.544713  1.089849  1.706229  1.941654  7.348716\n",
       "17  1.873202  1.381664  1.811045  1.087214  1.305199  7.458324\n",
       "18  1.671319  1.481661  1.966128  1.377905  1.497476  7.994488\n",
       "19  1.537174  1.770582  1.351077  1.151232  1.529600  7.339666"
      ]
     },
     "execution_count": 21,
     "metadata": {},
     "output_type": "execute_result"
    }
   ],
   "source": [
    "df['f'] = df[['a', 'b', 'c', 'd', 'e']].sum(axis=1)  # column operation\n",
    "df"
   ]
  },
  {
   "cell_type": "code",
   "execution_count": 22,
   "id": "4bee5109",
   "metadata": {},
   "outputs": [
    {
     "name": "stdout",
     "output_type": "stream",
     "text": [
      "           a         b         c         d         e         f    g\n",
      "0   1.994245  1.547024  1.322708  1.397499  1.847295  8.108772  GT8\n",
      "1   1.352188  1.548048  1.368919  1.090848  1.978065  7.338069  LT8\n",
      "2   1.344701  1.254203  1.725062  1.172478  1.853537  7.349980  LT8\n",
      "3   1.719103  1.544721  1.675587  1.359081  1.854617  8.153109  GT8\n",
      "4   1.116331  1.722565  1.277361  1.047585  1.699435  6.863277  LT8\n",
      "5   1.914431  1.265789  1.112658  1.801021  1.601470  7.695369  LT8\n",
      "6   1.289015  1.269937  1.677324  1.152437  1.043103  6.431815  LT8\n",
      "7   1.492647  1.544749  1.671953  1.157626  1.757689  7.624664  LT8\n",
      "8   1.149094  1.758081  1.201738  1.221199  1.737561  7.067673  LT8\n",
      "9   1.666958  1.658609  1.900684  1.031788  1.789589  8.047628  GT8\n",
      "10  1.061703  1.053316  1.492539  1.082718  1.686739  6.377015  LT8\n",
      "11  1.660195  1.902677  1.012366  1.974669  1.539482  8.089388  GT8\n",
      "12  1.072200  1.781611  1.165796  1.906952  1.443602  7.370161  LT8\n",
      "13  1.350450  1.914388  1.112076  1.391601  1.014398  6.782913  LT8\n",
      "14  1.877449  1.138184  1.004102  1.262276  1.426127  6.708137  LT8\n",
      "15  1.184535  1.575062  1.360449  1.964682  1.464797  7.549525  LT8\n",
      "16  1.066271  1.544713  1.089849  1.706229  1.941654  7.348716  LT8\n",
      "17  1.873202  1.381664  1.811045  1.087214  1.305199  7.458324  LT8\n",
      "18  1.671319  1.481661  1.966128  1.377905  1.497476  7.994488  LT8\n",
      "19  1.537174  1.770582  1.351077  1.151232  1.529600  7.339666  LT8\n",
      "\n",
      "Number of rows in the dataframe where the value in the column “g” is “LT8”  16\n"
     ]
    }
   ],
   "source": [
    "df['g'] = np.where(df['f'] < 8, 'LT8', 'GT8')\n",
    "df\n",
    "\n",
    "LT8 = (df['g'] == 'LT8').sum()\n",
    "print(df)\n",
    "print(\"\\nNumber of rows in the dataframe where the value in the column “g” is “LT8” \",LT8)"
   ]
  },
  {
   "cell_type": "code",
   "execution_count": 23,
   "id": "a956ba9f",
   "metadata": {},
   "outputs": [
    {
     "name": "stdout",
     "output_type": "stream",
     "text": [
      "the standard deviation of the column “f” for the rows where the value in the column “g” is “LT8” 0.4598222573062484\n",
      "the standard deviation of the column “f” for the rows where the value in the column “g” is “GT8” 0.043789581327665895\n"
     ]
    }
   ],
   "source": [
    "std_LT8 = df.loc[df['g'] == 'LT8', 'f'].std()\n",
    "print(\"the standard deviation of the column “f” for the rows where the value in the column “g” is “LT8”\",std_LT8 )\n",
    "\n",
    "\n",
    "std_GT8 = df.loc[df['g'] == 'GT8', 'f'].std()\n",
    "print(\"the standard deviation of the column “f” for the rows where the value in the column “g” is “GT8”\",std_GT8 )"
   ]
  },
  {
   "cell_type": "markdown",
   "id": "6731fd12",
   "metadata": {},
   "source": [
    "### Answer 12"
   ]
  },
  {
   "cell_type": "markdown",
   "id": "c685344a",
   "metadata": {},
   "source": [
    "NumPy's broadcasting performs operations on arrays of different shapes, even when they don't match exactly. When a dimensions are not matching, NumPy copies the elements along that dimension to create the \"virtual\" larger array and perform broadcasting. For example, (3,1) matrix is added to (1,3) matrix to get (3,3) matrix."
   ]
  },
  {
   "cell_type": "code",
   "execution_count": 24,
   "id": "43329030",
   "metadata": {},
   "outputs": [
    {
     "name": "stdout",
     "output_type": "stream",
     "text": [
      "Matrix:\n",
      "[[1]\n",
      " [2]\n",
      " [3]]\n",
      "\n",
      "Addition:\n",
      "[[3 4 3]\n",
      " [4 5 4]\n",
      " [5 6 5]]\n"
     ]
    }
   ],
   "source": [
    "matrix = np.array([[1],\n",
    "                   [2],\n",
    "                   [3]])\n",
    "\n",
    "addition = matrix + np.array([2, 3, 2])\n",
    "\n",
    "\n",
    "print(\"Matrix:\")\n",
    "print(matrix)\n",
    "\n",
    "print(\"\\nAddition:\")\n",
    "print(addition)"
   ]
  },
  {
   "cell_type": "markdown",
   "id": "a5dee256",
   "metadata": {},
   "source": [
    "### Answer 13"
   ]
  },
  {
   "cell_type": "code",
   "execution_count": 25,
   "id": "76d9a71d",
   "metadata": {},
   "outputs": [
    {
     "name": "stdout",
     "output_type": "stream",
     "text": [
      "[0.43554656 0.74428204 0.14825782 0.32838529 0.36148557 0.82247677\n",
      " 0.90289385 0.98572691 0.07284238 0.73808167]\n",
      "8\n",
      "Hence Verified\n"
     ]
    }
   ],
   "source": [
    "def arg_min(l):\n",
    "    min_index = 0\n",
    "\n",
    "    for i in range(1, len(l)-1):\n",
    "        if l[i] < l[min_index]:\n",
    "            min_index = i\n",
    "\n",
    "    return min_index\n",
    "\n",
    "l = np.random.random(10)  # randomly generating an numpy array\n",
    "np.argmin(l)\n",
    "\n",
    "print(l)\n",
    "print(arg_min(l))\n",
    "\n",
    "if np.argmin(l) == arg_min(l):\n",
    "    print('Hence Verified')"
   ]
  }
 ],
 "metadata": {
  "kernelspec": {
   "display_name": "Python 3 (ipykernel)",
   "language": "python",
   "name": "python3"
  },
  "language_info": {
   "codemirror_mode": {
    "name": "ipython",
    "version": 3
   },
   "file_extension": ".py",
   "mimetype": "text/x-python",
   "name": "python",
   "nbconvert_exporter": "python",
   "pygments_lexer": "ipython3",
   "version": "3.11.5"
  }
 },
 "nbformat": 4,
 "nbformat_minor": 5
}
